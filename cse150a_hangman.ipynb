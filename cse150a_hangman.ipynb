{
  "cells": [
    {
      "cell_type": "code",
      "execution_count": 3,
      "metadata": {
        "colab": {
          "base_uri": "https://localhost:8080/"
        },
        "id": "iqvR9AquSVhE",
        "outputId": "227dd80b-b591-448d-c960-23b4795d8005"
      },
      "outputs": [
        {
          "output_type": "stream",
          "name": "stdout",
          "text": [
            "fatal: destination path 'hw1' already exists and is not an empty directory.\n"
          ]
        }
      ],
      "source": [
        "# If cloning is needed -- i.e., if hangman.py and word counts are not already\n",
        "# available in file, you can run this\n",
        "!git clone https://github.com/ucsd-cse150a-w25/hw1.git\n",
        "!cp hw1/hangman.py hangman.py\n",
        "!cp hw1/hw1_word_counts_05.txt hw1_word_counts_05.txt"
      ]
    },
    {
      "cell_type": "code",
      "execution_count": 4,
      "metadata": {
        "colab": {
          "base_uri": "https://localhost:8080/"
        },
        "id": "GzKeLQ58SVhF",
        "outputId": "d83870a6-0ae5-4da6-b3c8-8bcd316f545b"
      },
      "outputs": [
        {
          "output_type": "stream",
          "name": "stdout",
          "text": [
            "\n",
            "\n",
            "  +---+\n",
            "      |\n",
            "      |\n",
            "      |\n",
            "     ===\n",
            "\n",
            "Word: _ _ _ _ _\n",
            "Tried letters: \n",
            "Game over! The word was:  HOUSE\n"
          ]
        },
        {
          "output_type": "execute_result",
          "data": {
            "text/plain": [
              "0"
            ]
          },
          "metadata": {},
          "execution_count": 4
        }
      ],
      "source": [
        "from hangman import hangman_game\n",
        "\n",
        "# Play the game by yourself\n",
        "hangman_game()"
      ]
    },
    {
      "cell_type": "code",
      "execution_count": 22,
      "metadata": {
        "colab": {
          "base_uri": "https://localhost:8080/"
        },
        "id": "Yb_zG2BwSVhF",
        "outputId": "f3b38656-402f-47ae-df59-ada6e5fc42fc"
      },
      "outputs": [
        {
          "output_type": "stream",
          "name": "stdout",
          "text": [
            "\n",
            "\n",
            "  +---+\n",
            "  O   |\n",
            " /|\\  |\n",
            " / \\  |\n",
            "     ===\n",
            "\n",
            "Word: A _ _ _ _\n",
            "Tried letters: A, B, C, I, M, T, W\n",
            "Game over! The word was:  ASKED\n"
          ]
        },
        {
          "output_type": "execute_result",
          "data": {
            "text/plain": [
              "0"
            ]
          },
          "metadata": {},
          "execution_count": 22
        }
      ],
      "source": [
        "import random\n",
        "import string\n",
        "\n",
        "def random_inference(\n",
        "    letters_tried: set[str],\n",
        "    word_pattern: list[str],\n",
        "    word_counts: dict[str, int]\n",
        ") -> str:\n",
        "    '''\n",
        "    Random inference for playing hangman. This should be a simple method which returns a letter\n",
        "    that is NOT in letters_tried but any other letter, at random.\n",
        "\n",
        "    Hint: use the random.choice method\n",
        "    '''\n",
        "    # TODO: Implement random inference code to guess hangman\n",
        "    # Consulted how to make a list of the alphabet range from:\n",
        "    # https://stackoverflow.com/questions/16060899/alphabet-range-in-python\n",
        "\n",
        "    alphabet = set(string.ascii_uppercase)\n",
        "\n",
        "    print(\"alphabet: \", alphabet)\n",
        "    print(\"letters tried: \", letters_tried)\n",
        "\n",
        "    letters_left = list(alphabet - letters_tried)\n",
        "    print(\"letters left: \", letters_left)\n",
        "\n",
        "    if not letters_left:\n",
        "        raise ValueError(\"No letters left to guess!\")\n",
        "\n",
        "    letter_chosen = random.choice(letters_left)\n",
        "\n",
        "    print(\"letter chosen: \", letter_chosen)\n",
        "\n",
        "    return letter_chosen\n",
        "\n",
        "hangman_game(random_inference)"
      ]
    },
    {
      "cell_type": "code",
      "execution_count": null,
      "metadata": {
        "id": "CGmWBdsXM4cN"
      },
      "outputs": [],
      "source": [
        "import string\n",
        "\n",
        "def bayesian_inference(\n",
        "    letters_tried: set[str],\n",
        "    word_pattern: list[str],\n",
        "    word_counts: dict[str, int]\n",
        ") -> str:\n",
        "    '''\n",
        "    Bayesian inference method for playing hangman. The parameters given are as follows:\n",
        "\n",
        "    - letters_tried (set[str]): A set of strings which consist of all the letters that have already\n",
        "        been tried. For example, if 'A', 'E' has been guessed, `letters_tried = {'A', 'E'}`\n",
        "    - word_pattern (list[str]): A list of single characters that describe the current guess state.\n",
        "        For example, if the hangman state is _AB__, `word_pattern = ['_', 'A', 'B', '_', '_']`\n",
        "    - word_counts (dict[str, int]): The word counts dictionary which contains all possible 5 letter\n",
        "        words in our hangman game and their respective counts. For example, a key value pair could\n",
        "        be 'AARON': 413.\n",
        "    Return type: a single character string as your next best guess.\n",
        "    '''\n",
        "    bayesianProbability\n",
        "    # TODO: Implement inference code to play hangman optimally\n",
        "\n",
        "    alphabet = set(string.ascii_uppercase)\n",
        "\n",
        "    letters_left = list(alphabet - letters_tried)\n",
        "\n",
        "    if not letters_left:\n",
        "        raise ValueError(\"No letters left to guess!\")\n",
        "\n",
        "    maxProbability = 0;\n",
        "\n",
        "    for currLetter in letters_left:\n",
        "      for currWord, currCount in word_counts.items():\n",
        "        currProb = bayesianProbability(currLetter, currWord, currCount)\n",
        "        if  currProb > maxProbability:\n",
        "          maxProb = currProb\n",
        "          chosen_letter = currLetter\n",
        "\n",
        "    return chosen_letter\n",
        "\n",
        "# Run the game\n",
        "hangman_game(bayesian_inference)"
      ]
    },
    {
      "cell_type": "code",
      "execution_count": null,
      "metadata": {
        "id": "S20c6w2GSVhG"
      },
      "outputs": [],
      "source": [
        "from typing import Optional, Callable\n",
        "# from tqdm import tqdm\n",
        "\n",
        "def benchmark(\n",
        "    inference: Optional[Callable],\n",
        "    num_runs: int = 1000,\n",
        "    seed: int = 0\n",
        ") -> None:\n",
        "    '''\n",
        "    Benchmark method for testing out the bayesian inference method. The parameters given are:\n",
        "\n",
        "    - inference: The function that should match the bayesian_inference() method above.\n",
        "    - seed: The seed to pass into the hangman_game function.\n",
        "\n",
        "    Return type: none.\n",
        "\n",
        "    Print the accuracy out of num_runs. If the function throws an error, it should count as a fail.\n",
        "    '''\n",
        "    # TODO: Implement benchmark testing for a given function\n",
        "    # Hint: pass `seed = seed` into the hangman_game function to standardize the generated words.\n",
        "    # Hint: pass `interactive = False` into the hangman_game function to run faster without outputs.\n",
        "    # Optional: use the `tqdm` module to keep track of the evaluation progress.\n",
        "\n",
        "benchmark(random_inference)\n",
        "benchmark(bayesian_inference)"
      ]
    }
  ],
  "metadata": {
    "colab": {
      "provenance": []
    },
    "kernelspec": {
      "display_name": "Python 3",
      "name": "python3"
    },
    "language_info": {
      "codemirror_mode": {
        "name": "ipython",
        "version": 3
      },
      "file_extension": ".py",
      "mimetype": "text/x-python",
      "name": "python",
      "nbconvert_exporter": "python",
      "pygments_lexer": "ipython3",
      "version": "3.11.0"
    }
  },
  "nbformat": 4,
  "nbformat_minor": 0
}